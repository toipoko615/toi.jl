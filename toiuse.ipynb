{
 "cells": [
  {
   "cell_type": "markdown",
   "metadata": {},
   "source": [
    "# toi.jlの扱い"
   ]
  },
  {
   "cell_type": "markdown",
   "metadata": {},
   "source": [
    "## 準備"
   ]
  },
  {
   "cell_type": "code",
   "execution_count": 9,
   "metadata": {},
   "outputs": [
    {
     "data": {
      "text/plain": [
       "onemps"
      ]
     },
     "metadata": {},
     "output_type": "display_data"
    }
   ],
   "source": [
    "using ITensors\n",
    "using Quantics\n",
    "function createTensors(N, D, d)\n",
    "    tensors = Array{Float64,4}[]\n",
    "    for i in 1:N\n",
    "        if i == 1\n",
    "            push!(tensors, rand(1, d, d,  D))\n",
    "        elseif i == N\n",
    "            push!(tensors, rand(D, d, d, 1))\n",
    "        else\n",
    "            push!(tensors, rand(D, d, d, D))\n",
    "        end\n",
    "    end\n",
    "    return tensors\n",
    "end\n",
    "function createTTMPO(tensortrain; sites=nothing)\n",
    "    localdims = [size(tensortrain[i])[2] for i in 1:length(tensortrain)]\n",
    "    if sites === nothing\n",
    "        sites = [Index(localdims[n], \"n=$n\") for n in 1:N]\n",
    "    else\n",
    "        all(localdims .== dim.(sites)) ||\n",
    "            error(\"ranks are not consistent with dimension of sites\")\n",
    "    end\n",
    "    linkdims = [[size(t, 1) for t in tensortrain]..., 1]\n",
    "    links = [Index(linkdims[l + 1], \"link,l=$l\") for l in 0:N]\n",
    "    tensors_ = [ITensor(deepcopy(tensortrain[n]), links[n], sites[n], sites[n]', links[n + 1])\n",
    "                for n in 1:N]\n",
    "    tensors_[1] *= onehot(links[1] => 1)\n",
    "    tensors_[end] *= onehot(links[end] => 1)\n",
    "    return MPO(tensors_)\n",
    "end\n",
    "\"\"\"\n",
    "Create a MPS filled with zero\n",
    "\"\"\"\n",
    "function onemps(::Type{T}, sites::Vector{Index{Int64}}) where {T<:Number}\n",
    "    M = MPS(T, sites; linkdims=1)\n",
    "    l = linkinds(M)\n",
    "    for n in eachindex(M)\n",
    "        if n == 1\n",
    "            M[n] = ITensor(T, sites[n], l[n])\n",
    "        elseif n == length(M)\n",
    "            M[n] = ITensor(T, l[n-1], sites[n])\n",
    "        else\n",
    "            M[n] = ITensor(T, l[n-1], sites[n], l[n])\n",
    "        end\n",
    "        M[n] .= one(T)\n",
    "    end\n",
    "    return M\n",
    "end\n",
    "#元のMPOを作成し、動かすのに使用する関数、toi.jlには含まれない。"
   ]
  },
  {
   "cell_type": "code",
   "execution_count": 11,
   "metadata": {},
   "outputs": [
    {
     "data": {
      "text/plain": [
       "soutai (generic function with 1 method)"
      ]
     },
     "metadata": {},
     "output_type": "display_data"
    }
   ],
   "source": [
    "function soutai(QTTres,res)\n",
    "    N=length(res)\n",
    "    s=[]\n",
    "    for n in 1:N\n",
    "        push!(s,(abs(QTTres[n]-res[n])/res[n]))\n",
    "    end\n",
    "    return s\n",
    "end\n",
    "#相対誤差算出用"
   ]
  },
  {
   "cell_type": "code",
   "execution_count": 2,
   "metadata": {},
   "outputs": [],
   "source": [
    "include(\"toi.jl\")\n",
    "using .Toi"
   ]
  },
  {
   "cell_type": "markdown",
   "metadata": {},
   "source": [
    "## 実働"
   ]
  },
  {
   "cell_type": "markdown",
   "metadata": {},
   "source": [
    "### MPOの作成"
   ]
  },
  {
   "cell_type": "code",
   "execution_count": 3,
   "metadata": {},
   "outputs": [
    {
     "data": {
      "text/plain": [
       "MPO\n",
       "[1] ((dim=4|id=855|\"a=1\"), (dim=4|id=855|\"a=1\")', (dim=2|id=952|\"l=1,link\"))\n",
       "[2] ((dim=2|id=952|\"l=1,link\"), (dim=4|id=798|\"a=2\"), (dim=4|id=798|\"a=2\")', (dim=2|id=957|\"l=2,link\"))\n",
       "[3] ((dim=2|id=957|\"l=2,link\"), (dim=4|id=436|\"a=3\"), (dim=4|id=436|\"a=3\")', (dim=2|id=26|\"l=3,link\"))\n",
       "[4] ((dim=2|id=26|\"l=3,link\"), (dim=4|id=941|\"a=4\"), (dim=4|id=941|\"a=4\")')\n"
      ]
     },
     "metadata": {},
     "output_type": "display_data"
    }
   ],
   "source": [
    "N = 4\n",
    "d = 4\n",
    "D = 2\n",
    "tensors_ = createTensors(N, D, d)\n",
    "inds = [Index(d, \"a = $i\") for i in 1:N]\n",
    "tt = createTTMPO(tensors_, sites=inds)\n",
    "#ttとindsを今後使用。localdimは2^Rとすること"
   ]
  },
  {
   "cell_type": "markdown",
   "metadata": {},
   "source": [
    "### QTTMPOの作成とvector化"
   ]
  },
  {
   "cell_type": "markdown",
   "metadata": {},
   "source": [
    "QTTMPOの作成"
   ]
  },
  {
   "cell_type": "code",
   "execution_count": 5,
   "metadata": {},
   "outputs": [
    {
     "data": {
      "text/plain": [
       "MPO\n",
       "[1] ((dim=2|id=751|\"a=1\"), (dim=2|id=220|\"a=1\")', (dim=4|id=395|\"l=1\"))\n",
       "[2] ((dim=4|id=395|\"l=1\"), (dim=2|id=782|\"a=2\"), (dim=2|id=722|\"a=2\")', (dim=2|id=535|\"l=2\"))\n",
       "[3] ((dim=2|id=535|\"l=2\"), (dim=2|id=980|\"b=1\"), (dim=2|id=83|\"b=1\")', (dim=6|id=384|\"l=3\"))\n",
       "[4] ((dim=6|id=384|\"l=3\"), (dim=2|id=151|\"b=2\"), (dim=2|id=290|\"b=2\")', (dim=2|id=113|\"l=4\"))\n",
       "[5] ((dim=2|id=113|\"l=4\"), (dim=2|id=907|\"c=1\"), (dim=2|id=825|\"c=1\")', (dim=6|id=405|\"l=5\"))\n",
       "[6] ((dim=6|id=405|\"l=5\"), (dim=2|id=842|\"c=2\"), (dim=2|id=825|\"c=2\")', (dim=2|id=463|\"l=6\"))\n",
       "[7] ((dim=2|id=463|\"l=6\"), (dim=2|id=173|\"d=1\"), (dim=2|id=980|\"d=1\")', (dim=4|id=105|\"l=7\"))\n",
       "[8] ((dim=4|id=105|\"l=7\"), (dim=2|id=113|\"d=2\"), (dim=2|id=516|\"d=2\")')\n"
      ]
     },
     "metadata": {},
     "output_type": "display_data"
    }
   ],
   "source": [
    "cut=0.1\n",
    "QTTMPO,MPOin,links,R=Toi.MPOtoQTTMPO(tt,cut)\n",
    "#QTTMPO→QTT化したMPO\n",
    "#MPOin→QTTMPOのindex\n",
    "#links→linkindexのみをまとめたもの\n",
    "#R→2^RのR\n",
    "#後半の3つはMPS作成に使用\n",
    "QTTMPO"
   ]
  },
  {
   "cell_type": "markdown",
   "metadata": {},
   "source": [
    "QTTMPOに合わせるためのMPSを作成"
   ]
  },
  {
   "cell_type": "code",
   "execution_count": 6,
   "metadata": {},
   "outputs": [
    {
     "data": {
      "text/plain": [
       "MPS\n",
       "[1] ((dim=2|id=751|\"a=1\"), (dim=1|id=591|\"l=1\"))\n",
       "[2] ((dim=1|id=591|\"l=1\"), (dim=2|id=782|\"a=2\"), (dim=1|id=376|\"l=2\"))\n",
       "[3] ((dim=1|id=376|\"l=2\"), (dim=2|id=980|\"b=1\"), (dim=1|id=601|\"l=3\"))\n",
       "[4] ((dim=1|id=601|\"l=3\"), (dim=2|id=151|\"b=2\"), (dim=1|id=823|\"l=4\"))\n",
       "[5] ((dim=1|id=823|\"l=4\"), (dim=2|id=907|\"c=1\"), (dim=1|id=226|\"l=5\"))\n",
       "[6] ((dim=1|id=226|\"l=5\"), (dim=2|id=842|\"c=2\"), (dim=1|id=364|\"l=6\"))\n",
       "[7] ((dim=1|id=364|\"l=6\"), (dim=2|id=173|\"d=1\"), (dim=1|id=289|\"l=7\"))\n",
       "[8] ((dim=1|id=289|\"l=7\"), (dim=2|id=113|\"d=2\"))\n"
      ]
     },
     "metadata": {},
     "output_type": "display_data"
    }
   ],
   "source": [
    "testMPS=Toi.MPOintoMPSones(MPOin,links,R,N)\n",
    "#要素は全部1"
   ]
  },
  {
   "cell_type": "markdown",
   "metadata": {},
   "source": [
    "結合QTTMPOとMPSの結合→vector化"
   ]
  },
  {
   "cell_type": "code",
   "execution_count": 7,
   "metadata": {},
   "outputs": [
    {
     "data": {
      "text/plain": [
       "256-element Vector{Float64}:\n",
       " 121.19218713168343\n",
       " 144.69787884819652\n",
       " 207.2868154917067\n",
       " 160.18976867188815\n",
       "  89.11522809165886\n",
       " 113.46706363579105\n",
       " 148.8681039981855\n",
       " 116.50042827434224\n",
       " 104.90400364694959\n",
       " 135.92541768269223\n",
       "   ⋮\n",
       "  95.66525618973508\n",
       "  86.63309457756104\n",
       " 112.23042734321331\n",
       " 143.75418612309124\n",
       " 112.90424669025002\n",
       "  81.93020879211892\n",
       " 102.56906650562699\n",
       " 137.74532119565802\n",
       " 107.42692391302899"
      ]
     },
     "metadata": {},
     "output_type": "display_data"
    }
   ],
   "source": [
    "QTTres_= apply(QTTMPO, testMPS)\n",
    "QTTresinds=Toi.restoinds(QTTres_)\n",
    "QTTres = vec(Array(reduce(*, QTTres_), reverse(QTTresinds[1:Int(N*R)])))"
   ]
  },
  {
   "cell_type": "markdown",
   "metadata": {},
   "source": [
    "### 元のMPOのvector化"
   ]
  },
  {
   "cell_type": "code",
   "execution_count": 10,
   "metadata": {},
   "outputs": [
    {
     "data": {
      "text/plain": [
       "256-element Vector{Float64}:\n",
       " 120.23450216173008\n",
       " 143.5554396229856\n",
       " 205.64829439549638\n",
       " 158.92373576951618\n",
       "  89.48961652912317\n",
       " 113.94187665776317\n",
       " 149.4944708816756\n",
       " 116.99021025834291\n",
       " 104.8486341447501\n",
       " 135.82825797990034\n",
       "   ⋮\n",
       "  96.58252820099347\n",
       "  86.8465138310228\n",
       " 112.4902563718451\n",
       " 144.1166951439496\n",
       " 113.18542463601045\n",
       "  81.68357322337202\n",
       " 102.23985726545938\n",
       " 137.3409462805353\n",
       " 107.10726842969454"
      ]
     },
     "metadata": {},
     "output_type": "display_data"
    }
   ],
   "source": [
    "onemps_ = onemps(Float64, inds)\n",
    "res = apply(tt, onemps_)\n",
    "res = vec(Array(reduce(*, res), reverse(inds[1:N])))"
   ]
  },
  {
   "cell_type": "markdown",
   "metadata": {},
   "source": [
    "## resとQTTresの比較"
   ]
  },
  {
   "cell_type": "code",
   "execution_count": 12,
   "metadata": {},
   "outputs": [
    {
     "data": {
      "text/plain": [
       "256-element Vector{Any}:\n",
       " 0.007965142723052532\n",
       " 0.007958174404336524\n",
       " 0.007967589038492939\n",
       " 0.00796629211012295\n",
       " 0.004183596399057816\n",
       " 0.004167151146705063\n",
       " 0.004189899999618543\n",
       " 0.0041865211022282444\n",
       " 0.0005280898759544719\n",
       " 0.0007153128828778929\n",
       " ⋮\n",
       " 0.009497287225174905\n",
       " 0.0024574302876107963\n",
       " 0.0023097914167153678\n",
       " 0.002515385330591156\n",
       " 0.0024842239772891665\n",
       " 0.003019402298580232\n",
       " 0.0032199696769220167\n",
       " 0.0029443143219411508\n",
       " 0.002984442494154971"
      ]
     },
     "metadata": {},
     "output_type": "display_data"
    }
   ],
   "source": [
    "s=soutai(QTTres,res)"
   ]
  },
  {
   "cell_type": "code",
   "execution_count": 13,
   "metadata": {},
   "outputs": [
    {
     "data": {
      "text/plain": [
       "0.022989488882723483"
      ]
     },
     "metadata": {},
     "output_type": "display_data"
    }
   ],
   "source": [
    "smax=maximum(s)"
   ]
  },
  {
   "cell_type": "code",
   "execution_count": 14,
   "metadata": {},
   "outputs": [
    {
     "data": {
      "text/plain": [
       "8.300375785343387e-7"
      ]
     },
     "metadata": {},
     "output_type": "display_data"
    }
   ],
   "source": [
    "smin=minimum(s)"
   ]
  },
  {
   "cell_type": "code",
   "execution_count": 15,
   "metadata": {},
   "outputs": [
    {
     "data": {
      "text/plain": [
       "0.006499409290943023"
      ]
     },
     "metadata": {},
     "output_type": "display_data"
    }
   ],
   "source": [
    "sabr=sum(s)/length(s)"
   ]
  },
  {
   "cell_type": "code",
   "execution_count": 16,
   "metadata": {},
   "outputs": [
    {
     "name": "stdout",
     "output_type": "stream",
     "text": [
      "相対誤差の最大は0.022989488882723483\n",
      "相対誤差の最大は8.300375785343387e-7\n",
      "相対誤差の平均は0.006499409290943023\n"
     ]
    }
   ],
   "source": [
    "println(\"相対誤差の最大は\",smax)\n",
    "println(\"相対誤差の最大は\",smin)\n",
    "println(\"相対誤差の平均は\",sabr)"
   ]
  }
 ],
 "metadata": {
  "kernelspec": {
   "display_name": "Julia 1.9.1",
   "language": "julia",
   "name": "julia-1.9"
  },
  "language_info": {
   "file_extension": ".jl",
   "mimetype": "application/julia",
   "name": "julia",
   "version": "1.9.1"
  }
 },
 "nbformat": 4,
 "nbformat_minor": 2
}
